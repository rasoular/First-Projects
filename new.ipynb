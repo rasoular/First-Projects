# Code
import pandas as pd
